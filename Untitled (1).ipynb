{
 "cells": [
  {
   "cell_type": "code",
   "execution_count": 1,
   "id": "907271da-e78d-44e9-bffb-66191572767c",
   "metadata": {},
   "outputs": [
    {
     "name": "stdout",
     "output_type": "stream",
     "text": [
      "['START YEAR', 'START QUARTER', 'COMPLETION YEAR', 'COMPLETION QUARTER', 'V-1', 'V-2', 'V-3', 'V-4', 'V-5', 'V-6', 'V-7', 'V-8', 'V-11', 'V-12', 'V-13', 'V-14', 'V-15', 'V-16', 'V-17', 'V-18', 'V-19', 'V-20', 'V-21', 'V-22', 'V-23', 'V-24', 'V-25', 'V-26', 'V-27', 'V-28', 'V-29', 'V-11.1', 'V-12.1', 'V-13.1', 'V-14.1', 'V-15.1', 'V-16.1', 'V-17.1', 'V-18.1', 'V-19.1', 'V-20.1', 'V-21.1', 'V-22.1', 'V-23.1', 'V-24.1', 'V-25.1', 'V-26.1', 'V-27.1', 'V-28.1', 'V-29.1', 'V-11.2', 'V-12.2', 'V-13.2', 'V-14.2', 'V-15.2', 'V-16.2', 'V-17.2', 'V-18.2', 'V-19.2', 'V-20.2', 'V-21.2', 'V-22.2', 'V-23.2', 'V-24.2', 'V-25.2', 'V-26.2', 'V-27.2', 'V-28.2', 'V-29.2', 'V-11.3', 'V-12.3', 'V-13.3', 'V-14.3', 'V-15.3', 'V-16.3', 'V-17.3', 'V-18.3', 'V-19.3', 'V-20.3', 'V-21.3', 'V-22.3', 'V-23.3', 'V-24.3', 'V-25.3', 'V-26.3', 'V-27.3', 'V-28.3', 'V-29.3', 'V-11.4', 'V-12.4', 'V-13.4', 'V-14.4', 'V-15.4', 'V-16.4', 'V-17.4', 'V-18.4', 'V-19.4', 'V-20.4', 'V-21.4', 'V-22.4', 'V-23.4', 'V-24.4', 'V-25.4', 'V-26.4', 'V-27.4', 'V-28.4', 'V-29.4', 'V-9', 'V-10']\n"
     ]
    }
   ],
   "source": [
    "\n",
    "import pandas as pd\n",
    "\n",
    "import numpy as np\n",
    "\n",
    "import matplotlib.pyplot as plt\n",
    "\n",
    "%matplotlib inline\n",
    "\n",
    "import seaborn as sns\n",
    "\n",
    "raw_data = pd.read_csv('res-build-data.csv')\n",
    "\n",
    "print(list(raw_data.columns))"
   ]
  },
  {
   "cell_type": "code",
   "execution_count": 2,
   "id": "db51d5f1-2665-4988-8577-2fc1f76a4ca5",
   "metadata": {},
   "outputs": [],
   "source": [
    "x= raw_data[['START YEAR', 'START QUARTER', 'COMPLETION YEAR', 'COMPLETION QUARTER', 'V-1', 'V-2', 'V-3', 'V-4', 'V-5', 'V-6', 'V-7', 'V-8', 'V-11', 'V-12', 'V-13', 'V-14', 'V-15', 'V-16', 'V-17', 'V-18', 'V-19', 'V-20', 'V-21', 'V-22', 'V-23', 'V-24', 'V-25', 'V-26', 'V-27', 'V-28', 'V-29', 'V-11.1', 'V-12.1', 'V-13.1', 'V-14.1', 'V-15.1', 'V-16.1', 'V-17.1', 'V-18.1', 'V-19.1', 'V-20.1', 'V-21.1', 'V-22.1', 'V-23.1', 'V-24.1', 'V-25.1', 'V-26.1', 'V-27.1', 'V-28.1', 'V-29.1', 'V-11.2', 'V-12.2', 'V-13.2', 'V-14.2', 'V-15.2', 'V-16.2', 'V-17.2', 'V-18.2', 'V-19.2', 'V-20.2', 'V-21.2', 'V-22.2', 'V-23.2', 'V-24.2', 'V-25.2', 'V-26.2', 'V-27.2', 'V-28.2', 'V-29.2', 'V-11.3', 'V-12.3', 'V-13.3', 'V-14.3', 'V-15.3', 'V-16.3', 'V-17.3', 'V-18.3', 'V-19.3', 'V-20.3', 'V-21.3', 'V-22.3', 'V-23.3', 'V-24.3', 'V-25.3', 'V-26.3', 'V-27.3', 'V-28.3', 'V-29.3', 'V-11.4', 'V-12.4', 'V-13.4', 'V-14.4', 'V-15.4', 'V-16.4', 'V-17.4', 'V-18.4', 'V-19.4', 'V-20.4', 'V-21.4', 'V-22.4', 'V-23.4', 'V-24.4', 'V-25.4', 'V-26.4', 'V-27.4', 'V-28.4', 'V-29.4']]\n",
    "y= raw_data[['V-9', 'V-10']]\n"
   ]
  },
  {
   "cell_type": "code",
   "execution_count": 3,
   "id": "4658b12f-0538-42bb-bebd-4864cc4eeaee",
   "metadata": {},
   "outputs": [],
   "source": [
    "from sklearn.model_selection import train_test_split\n",
    "x_train, x_test, y_train, y_test = train_test_split(x, y, test_size = 0.2)\n"
   ]
  },
  {
   "cell_type": "code",
   "execution_count": 4,
   "id": "fd991227-e492-4ef7-b8f0-7e518d78d0c5",
   "metadata": {},
   "outputs": [
    {
     "name": "stdout",
     "output_type": "stream",
     "text": [
      "[[-7.41274204e-02  1.33564327e-01  4.64965582e-01  2.20838091e+01\n",
      "  -4.35718086e+00  4.46723404e-02 -1.48546446e-01 -1.19085287e-02\n",
      "  -6.34586917e-01  1.24918141e-01  2.41066168e+01  1.19281147e+00\n",
      "   1.19575919e-01  2.06773881e+00  1.19524734e+00  1.39779401e+00\n",
      "  -5.78612122e-03 -2.81999637e-01 -6.14468141e+00  5.25780425e+00\n",
      "   1.29420165e-02  4.03732980e+00  8.20167223e-01  2.26087609e-01\n",
      "  -1.49130130e-02 -6.61339986e-02 -2.88731649e+00  9.45278734e-01\n",
      "   6.30363045e-03  2.71926904e+00  1.65804710e-04 -6.64903394e-03\n",
      "   2.01269974e+00 -2.36423663e+00  9.24328528e-01 -5.09062366e-03\n",
      "  -2.57468932e-02  1.76169914e+00 -7.55228121e-01  3.19336575e-03\n",
      "   5.70721958e+00  1.30544271e+00 -8.50022041e-01  7.77783078e-02\n",
      "   1.60618939e-02 -3.33936655e+00  1.58838709e+00  1.01187961e-01\n",
      "  -1.04446476e-01  9.61524346e-04  4.08792522e-03  2.77812313e+00\n",
      "  -4.09030355e+00  2.54958649e+00  1.75329031e-02 -2.12314614e-02\n",
      "   1.39230438e+00  2.87181021e+00 -3.50213101e-02 -1.06959112e+00\n",
      "   9.75884037e-01 -6.04476749e-01 -8.44286699e-03  8.55477943e-02\n",
      "   6.49896330e-01 -1.58777907e+00  5.17233709e-02 -1.19393954e-01\n",
      "   3.28053660e-04  1.21438631e-01 -1.33466429e+00  7.52087714e-01\n",
      "   1.95194775e+00  5.04975418e-03  7.43457520e-02  1.40445710e+01\n",
      "   3.10317090e-01  1.32644532e-02 -4.33982846e+00  5.00077585e-01\n",
      "  -7.22461422e-01 -3.55788863e-02 -3.09992448e-03  2.23205975e+00\n",
      "  -3.67559721e+00 -1.76609900e-01 -1.13116084e-01  3.72262287e-04\n",
      "   8.23917157e-02 -2.35106753e+00 -2.12533878e+00  1.19822169e+00\n",
      "  -1.40641501e-02 -1.70562010e-01  6.25316423e+00 -2.76108483e+00\n",
      "  -2.41574904e-02  1.68508035e-01  1.86482593e-01 -1.04042197e-01\n",
      "   7.49686808e-02  1.43433868e-03  4.43693886e+00  6.45176012e-01\n",
      "   4.08941683e-02 -2.92224357e+00  7.21048509e-04]\n",
      " [ 1.73672256e-02 -7.85354199e-02  2.65851628e+00  8.96132662e-02\n",
      "  -1.18076833e-01 -5.31403943e-03  1.44943673e-02  4.66327652e-03\n",
      "   1.41632455e+00 -1.15091709e-02  1.07327449e+01 -1.88976585e-03\n",
      "   5.63885222e-04 -1.32190328e+00 -1.58601303e+00 -8.10234839e-01\n",
      "  -1.21625666e-03  1.94498170e-02 -1.78380894e+00  2.96723310e-02\n",
      "  -6.66547959e-03 -2.05690652e+00  1.89823689e-01 -2.39808032e-01\n",
      "   4.87103926e-03 -7.00016010e-02  1.20496257e+00 -3.06523388e-01\n",
      "   5.94355286e-03 -2.47693931e-01  3.69445739e-04 -9.41346542e-03\n",
      "  -1.13000109e+00  2.64611907e-01  1.06171223e-01 -4.41824978e-04\n",
      "   5.45301618e-03 -3.12133001e-01 -2.03338072e-01 -7.59998861e-03\n",
      "  -8.70407019e-01  3.12811667e-01 -6.65454994e-02  2.15170124e-03\n",
      "   4.06570586e-02  1.19094004e+00 -4.42053373e-01 -1.05576771e-02\n",
      "   3.47895207e-02 -4.57918329e-04 -6.17588538e-03 -4.27149498e-01\n",
      "  -1.01093530e+00 -8.21111860e-01  2.34716153e-03  4.42565407e-02\n",
      "  -3.13868933e+00  2.45176779e-01 -6.38030213e-03 -1.46573542e+00\n",
      "   2.78328450e-01 -3.08979240e-01 -7.31026971e-03 -3.53490784e-02\n",
      "   4.69702075e-01  1.42527471e+00 -3.12903347e-02  3.24955225e-02\n",
      "   3.05382289e-04  7.42544000e-03  2.93191005e-01 -2.01857767e+00\n",
      "  -8.41447926e-01  8.17950506e-04 -3.64744324e-02 -4.12479572e+00\n",
      "  -1.77073112e-01 -8.92920269e-03  1.30192478e+00  1.19231738e-01\n",
      "   7.65248271e-02  1.35656861e-04 -7.10302891e-03  1.93434243e-01\n",
      "   1.27147020e+00  5.99681070e-03  3.46535723e-02 -1.17183669e-04\n",
      "  -3.33514394e-02  1.17871235e+00  1.27389692e+00  9.25176428e-01\n",
      "  -2.97863713e-04  8.13779794e-05 -7.60377105e-01 -3.54804160e-01\n",
      "  -4.95955280e-05  5.47452724e-01  5.48277394e-02 -1.30993701e-01\n",
      "   1.43031283e-02 -1.46430457e-02 -1.38072591e+00  4.59679850e-01\n",
      "  -3.06363713e-02  2.91009793e-01  3.86908668e-04]]\n"
     ]
    },
    {
     "name": "stderr",
     "output_type": "stream",
     "text": [
      "/srv/conda/envs/notebook/lib/python3.7/site-packages/sklearn/linear_model/least_angle.py:30: DeprecationWarning: `np.float` is a deprecated alias for the builtin `float`. To silence this warning, use `float` by itself. Doing this will not modify any behavior and is safe. If you specifically wanted the numpy scalar type, use `np.float64` here.\n",
      "Deprecated in NumPy 1.20; for more details and guidance: https://numpy.org/devdocs/release/1.20.0-notes.html#deprecations\n",
      "  method='lar', copy_X=True, eps=np.finfo(np.float).eps,\n",
      "/srv/conda/envs/notebook/lib/python3.7/site-packages/sklearn/linear_model/least_angle.py:167: DeprecationWarning: `np.float` is a deprecated alias for the builtin `float`. To silence this warning, use `float` by itself. Doing this will not modify any behavior and is safe. If you specifically wanted the numpy scalar type, use `np.float64` here.\n",
      "Deprecated in NumPy 1.20; for more details and guidance: https://numpy.org/devdocs/release/1.20.0-notes.html#deprecations\n",
      "  method='lar', copy_X=True, eps=np.finfo(np.float).eps,\n",
      "/srv/conda/envs/notebook/lib/python3.7/site-packages/sklearn/linear_model/least_angle.py:284: DeprecationWarning: `np.float` is a deprecated alias for the builtin `float`. To silence this warning, use `float` by itself. Doing this will not modify any behavior and is safe. If you specifically wanted the numpy scalar type, use `np.float64` here.\n",
      "Deprecated in NumPy 1.20; for more details and guidance: https://numpy.org/devdocs/release/1.20.0-notes.html#deprecations\n",
      "  eps=np.finfo(np.float).eps, copy_Gram=True, verbose=0,\n",
      "/srv/conda/envs/notebook/lib/python3.7/site-packages/sklearn/linear_model/least_angle.py:862: DeprecationWarning: `np.float` is a deprecated alias for the builtin `float`. To silence this warning, use `float` by itself. Doing this will not modify any behavior and is safe. If you specifically wanted the numpy scalar type, use `np.float64` here.\n",
      "Deprecated in NumPy 1.20; for more details and guidance: https://numpy.org/devdocs/release/1.20.0-notes.html#deprecations\n",
      "  eps=np.finfo(np.float).eps, copy_X=True, fit_path=True,\n",
      "/srv/conda/envs/notebook/lib/python3.7/site-packages/sklearn/linear_model/least_angle.py:1101: DeprecationWarning: `np.float` is a deprecated alias for the builtin `float`. To silence this warning, use `float` by itself. Doing this will not modify any behavior and is safe. If you specifically wanted the numpy scalar type, use `np.float64` here.\n",
      "Deprecated in NumPy 1.20; for more details and guidance: https://numpy.org/devdocs/release/1.20.0-notes.html#deprecations\n",
      "  eps=np.finfo(np.float).eps, copy_X=True, fit_path=True,\n",
      "/srv/conda/envs/notebook/lib/python3.7/site-packages/sklearn/linear_model/least_angle.py:1127: DeprecationWarning: `np.float` is a deprecated alias for the builtin `float`. To silence this warning, use `float` by itself. Doing this will not modify any behavior and is safe. If you specifically wanted the numpy scalar type, use `np.float64` here.\n",
      "Deprecated in NumPy 1.20; for more details and guidance: https://numpy.org/devdocs/release/1.20.0-notes.html#deprecations\n",
      "  eps=np.finfo(np.float).eps, positive=False):\n",
      "/srv/conda/envs/notebook/lib/python3.7/site-packages/sklearn/linear_model/least_angle.py:1362: DeprecationWarning: `np.float` is a deprecated alias for the builtin `float`. To silence this warning, use `float` by itself. Doing this will not modify any behavior and is safe. If you specifically wanted the numpy scalar type, use `np.float64` here.\n",
      "Deprecated in NumPy 1.20; for more details and guidance: https://numpy.org/devdocs/release/1.20.0-notes.html#deprecations\n",
      "  max_n_alphas=1000, n_jobs=None, eps=np.finfo(np.float).eps,\n",
      "/srv/conda/envs/notebook/lib/python3.7/site-packages/sklearn/linear_model/least_angle.py:1602: DeprecationWarning: `np.float` is a deprecated alias for the builtin `float`. To silence this warning, use `float` by itself. Doing this will not modify any behavior and is safe. If you specifically wanted the numpy scalar type, use `np.float64` here.\n",
      "Deprecated in NumPy 1.20; for more details and guidance: https://numpy.org/devdocs/release/1.20.0-notes.html#deprecations\n",
      "  max_n_alphas=1000, n_jobs=None, eps=np.finfo(np.float).eps,\n",
      "/srv/conda/envs/notebook/lib/python3.7/site-packages/sklearn/linear_model/least_angle.py:1738: DeprecationWarning: `np.float` is a deprecated alias for the builtin `float`. To silence this warning, use `float` by itself. Doing this will not modify any behavior and is safe. If you specifically wanted the numpy scalar type, use `np.float64` here.\n",
      "Deprecated in NumPy 1.20; for more details and guidance: https://numpy.org/devdocs/release/1.20.0-notes.html#deprecations\n",
      "  eps=np.finfo(np.float).eps, copy_X=True, positive=False):\n"
     ]
    }
   ],
   "source": [
    "from sklearn.linear_model import LinearRegression\n",
    "model = LinearRegression()\n",
    "model.fit(x_train, y_train)\n",
    "print(model.coef_)"
   ]
  },
  {
   "cell_type": "code",
   "execution_count": 5,
   "id": "dc801531-5198-4840-b2fa-4f657208f399",
   "metadata": {},
   "outputs": [
    {
     "name": "stdout",
     "output_type": "stream",
     "text": [
      "[ 7420.88574554 -2768.33072119]\n"
     ]
    }
   ],
   "source": [
    "print(model.intercept_)\n"
   ]
  },
  {
   "cell_type": "code",
   "execution_count": 7,
   "id": "752bdc87-f9ec-4d3b-96d8-1b47835a7f2c",
   "metadata": {},
   "outputs": [
    {
     "ename": "TypeError",
     "evalue": "Index(...) must be called with a collection of some kind, 'START YEAR' was passed",
     "output_type": "error",
     "traceback": [
      "\u001b[0;31m---------------------------------------------------------------------------\u001b[0m",
      "\u001b[0;31mTypeError\u001b[0m                                 Traceback (most recent call last)",
      "\u001b[0;32m<ipython-input-7-b7932fc41a16>\u001b[0m in \u001b[0;36m<module>\u001b[0;34m\u001b[0m\n\u001b[0;32m----> 1\u001b[0;31m \u001b[0mpd\u001b[0m\u001b[0;34m.\u001b[0m\u001b[0mDataFrame\u001b[0m\u001b[0;34m(\u001b[0m\u001b[0mmodel\u001b[0m\u001b[0;34m.\u001b[0m\u001b[0mcoef_\u001b[0m\u001b[0;34m,\u001b[0m \u001b[0mx\u001b[0m\u001b[0;34m.\u001b[0m\u001b[0mcolumns\u001b[0m\u001b[0;34m[\u001b[0m\u001b[0;36m0\u001b[0m\u001b[0;34m]\u001b[0m\u001b[0;34m,\u001b[0m \u001b[0mcolumns\u001b[0m \u001b[0;34m=\u001b[0m \u001b[0;34m[\u001b[0m\u001b[0;34m'Coeff'\u001b[0m\u001b[0;34m]\u001b[0m\u001b[0;34m)\u001b[0m\u001b[0;34m\u001b[0m\u001b[0;34m\u001b[0m\u001b[0m\n\u001b[0m",
      "\u001b[0;32m/srv/conda/envs/notebook/lib/python3.7/site-packages/pandas/core/frame.py\u001b[0m in \u001b[0;36m__init__\u001b[0;34m(self, data, index, columns, dtype, copy)\u001b[0m\n\u001b[1;32m    676\u001b[0m                     \u001b[0mdtype\u001b[0m\u001b[0;34m=\u001b[0m\u001b[0mdtype\u001b[0m\u001b[0;34m,\u001b[0m\u001b[0;34m\u001b[0m\u001b[0;34m\u001b[0m\u001b[0m\n\u001b[1;32m    677\u001b[0m                     \u001b[0mcopy\u001b[0m\u001b[0;34m=\u001b[0m\u001b[0mcopy\u001b[0m\u001b[0;34m,\u001b[0m\u001b[0;34m\u001b[0m\u001b[0;34m\u001b[0m\u001b[0m\n\u001b[0;32m--> 678\u001b[0;31m                     \u001b[0mtyp\u001b[0m\u001b[0;34m=\u001b[0m\u001b[0mmanager\u001b[0m\u001b[0;34m,\u001b[0m\u001b[0;34m\u001b[0m\u001b[0;34m\u001b[0m\u001b[0m\n\u001b[0m\u001b[1;32m    679\u001b[0m                 )\n\u001b[1;32m    680\u001b[0m \u001b[0;34m\u001b[0m\u001b[0m\n",
      "\u001b[0;32m/srv/conda/envs/notebook/lib/python3.7/site-packages/pandas/core/internals/construction.py\u001b[0m in \u001b[0;36mndarray_to_mgr\u001b[0;34m(values, index, columns, dtype, copy, typ)\u001b[0m\n\u001b[1;32m    319\u001b[0m     \u001b[0;31m# _prep_ndarray ensures that values.ndim == 2 at this point\u001b[0m\u001b[0;34m\u001b[0m\u001b[0;34m\u001b[0m\u001b[0;34m\u001b[0m\u001b[0m\n\u001b[1;32m    320\u001b[0m     index, columns = _get_axes(\n\u001b[0;32m--> 321\u001b[0;31m         \u001b[0mvalues\u001b[0m\u001b[0;34m.\u001b[0m\u001b[0mshape\u001b[0m\u001b[0;34m[\u001b[0m\u001b[0;36m0\u001b[0m\u001b[0;34m]\u001b[0m\u001b[0;34m,\u001b[0m \u001b[0mvalues\u001b[0m\u001b[0;34m.\u001b[0m\u001b[0mshape\u001b[0m\u001b[0;34m[\u001b[0m\u001b[0;36m1\u001b[0m\u001b[0;34m]\u001b[0m\u001b[0;34m,\u001b[0m \u001b[0mindex\u001b[0m\u001b[0;34m=\u001b[0m\u001b[0mindex\u001b[0m\u001b[0;34m,\u001b[0m \u001b[0mcolumns\u001b[0m\u001b[0;34m=\u001b[0m\u001b[0mcolumns\u001b[0m\u001b[0;34m\u001b[0m\u001b[0;34m\u001b[0m\u001b[0m\n\u001b[0m\u001b[1;32m    322\u001b[0m     )\n\u001b[1;32m    323\u001b[0m \u001b[0;34m\u001b[0m\u001b[0m\n",
      "\u001b[0;32m/srv/conda/envs/notebook/lib/python3.7/site-packages/pandas/core/internals/construction.py\u001b[0m in \u001b[0;36m_get_axes\u001b[0;34m(N, K, index, columns)\u001b[0m\n\u001b[1;32m    695\u001b[0m         \u001b[0mindex\u001b[0m \u001b[0;34m=\u001b[0m \u001b[0mibase\u001b[0m\u001b[0;34m.\u001b[0m\u001b[0mdefault_index\u001b[0m\u001b[0;34m(\u001b[0m\u001b[0mN\u001b[0m\u001b[0;34m)\u001b[0m\u001b[0;34m\u001b[0m\u001b[0;34m\u001b[0m\u001b[0m\n\u001b[1;32m    696\u001b[0m     \u001b[0;32melse\u001b[0m\u001b[0;34m:\u001b[0m\u001b[0;34m\u001b[0m\u001b[0;34m\u001b[0m\u001b[0m\n\u001b[0;32m--> 697\u001b[0;31m         \u001b[0mindex\u001b[0m \u001b[0;34m=\u001b[0m \u001b[0mensure_index\u001b[0m\u001b[0;34m(\u001b[0m\u001b[0mindex\u001b[0m\u001b[0;34m)\u001b[0m\u001b[0;34m\u001b[0m\u001b[0;34m\u001b[0m\u001b[0m\n\u001b[0m\u001b[1;32m    698\u001b[0m \u001b[0;34m\u001b[0m\u001b[0m\n\u001b[1;32m    699\u001b[0m     \u001b[0;32mif\u001b[0m \u001b[0mcolumns\u001b[0m \u001b[0;32mis\u001b[0m \u001b[0;32mNone\u001b[0m\u001b[0;34m:\u001b[0m\u001b[0;34m\u001b[0m\u001b[0;34m\u001b[0m\u001b[0m\n",
      "\u001b[0;32m/srv/conda/envs/notebook/lib/python3.7/site-packages/pandas/core/indexes/base.py\u001b[0m in \u001b[0;36mensure_index\u001b[0;34m(index_like, copy)\u001b[0m\n\u001b[1;32m   6335\u001b[0m     \u001b[0;32melse\u001b[0m\u001b[0;34m:\u001b[0m\u001b[0;34m\u001b[0m\u001b[0;34m\u001b[0m\u001b[0m\n\u001b[1;32m   6336\u001b[0m \u001b[0;34m\u001b[0m\u001b[0m\n\u001b[0;32m-> 6337\u001b[0;31m         \u001b[0;32mreturn\u001b[0m \u001b[0mIndex\u001b[0m\u001b[0;34m(\u001b[0m\u001b[0mindex_like\u001b[0m\u001b[0;34m,\u001b[0m \u001b[0mcopy\u001b[0m\u001b[0;34m=\u001b[0m\u001b[0mcopy\u001b[0m\u001b[0;34m)\u001b[0m\u001b[0;34m\u001b[0m\u001b[0;34m\u001b[0m\u001b[0m\n\u001b[0m\u001b[1;32m   6338\u001b[0m \u001b[0;34m\u001b[0m\u001b[0m\n\u001b[1;32m   6339\u001b[0m \u001b[0;34m\u001b[0m\u001b[0m\n",
      "\u001b[0;32m/srv/conda/envs/notebook/lib/python3.7/site-packages/pandas/core/indexes/base.py\u001b[0m in \u001b[0;36m__new__\u001b[0;34m(cls, data, dtype, copy, name, tupleize_cols, **kwargs)\u001b[0m\n\u001b[1;32m    472\u001b[0m \u001b[0;34m\u001b[0m\u001b[0m\n\u001b[1;32m    473\u001b[0m         \u001b[0;32melif\u001b[0m \u001b[0mis_scalar\u001b[0m\u001b[0;34m(\u001b[0m\u001b[0mdata\u001b[0m\u001b[0;34m)\u001b[0m\u001b[0;34m:\u001b[0m\u001b[0;34m\u001b[0m\u001b[0;34m\u001b[0m\u001b[0m\n\u001b[0;32m--> 474\u001b[0;31m             \u001b[0;32mraise\u001b[0m \u001b[0mcls\u001b[0m\u001b[0;34m.\u001b[0m\u001b[0m_scalar_data_error\u001b[0m\u001b[0;34m(\u001b[0m\u001b[0mdata\u001b[0m\u001b[0;34m)\u001b[0m\u001b[0;34m\u001b[0m\u001b[0;34m\u001b[0m\u001b[0m\n\u001b[0m\u001b[1;32m    475\u001b[0m         \u001b[0;32melif\u001b[0m \u001b[0mhasattr\u001b[0m\u001b[0;34m(\u001b[0m\u001b[0mdata\u001b[0m\u001b[0;34m,\u001b[0m \u001b[0;34m\"__array__\"\u001b[0m\u001b[0;34m)\u001b[0m\u001b[0;34m:\u001b[0m\u001b[0;34m\u001b[0m\u001b[0;34m\u001b[0m\u001b[0m\n\u001b[1;32m    476\u001b[0m             \u001b[0;32mreturn\u001b[0m \u001b[0mIndex\u001b[0m\u001b[0;34m(\u001b[0m\u001b[0mnp\u001b[0m\u001b[0;34m.\u001b[0m\u001b[0masarray\u001b[0m\u001b[0;34m(\u001b[0m\u001b[0mdata\u001b[0m\u001b[0;34m)\u001b[0m\u001b[0;34m,\u001b[0m \u001b[0mdtype\u001b[0m\u001b[0;34m=\u001b[0m\u001b[0mdtype\u001b[0m\u001b[0;34m,\u001b[0m \u001b[0mcopy\u001b[0m\u001b[0;34m=\u001b[0m\u001b[0mcopy\u001b[0m\u001b[0;34m,\u001b[0m \u001b[0mname\u001b[0m\u001b[0;34m=\u001b[0m\u001b[0mname\u001b[0m\u001b[0;34m,\u001b[0m \u001b[0;34m**\u001b[0m\u001b[0mkwargs\u001b[0m\u001b[0;34m)\u001b[0m\u001b[0;34m\u001b[0m\u001b[0;34m\u001b[0m\u001b[0m\n",
      "\u001b[0;31mTypeError\u001b[0m: Index(...) must be called with a collection of some kind, 'START YEAR' was passed"
     ]
    }
   ],
   "source": [
    "pd.DataFrame(model.coef_, x.columns, columns = ['Coeff'])\n"
   ]
  },
  {
   "cell_type": "code",
   "execution_count": null,
   "id": "6c3988c8-6298-4c09-8182-4bcd099ad345",
   "metadata": {},
   "outputs": [],
   "source": []
  },
  {
   "cell_type": "code",
   "execution_count": 8,
   "id": "db9028e8-e7b9-474e-8beb-412c7b556b47",
   "metadata": {},
   "outputs": [],
   "source": [
    "predictions = model.predict(x_test)"
   ]
  },
  {
   "cell_type": "code",
   "execution_count": 9,
   "id": "340cbdb7-2ea0-425e-91be-1b6437bad699",
   "metadata": {},
   "outputs": [
    {
     "data": {
      "text/plain": [
       "<matplotlib.collections.PathCollection at 0x7f0c328f53d0>"
      ]
     },
     "execution_count": 9,
     "metadata": {},
     "output_type": "execute_result"
    },
    {
     "data": {
      "image/png": "[encoded data removed]",
      "text/plain": [
       "<Figure size 432x288 with 1 Axes>"
      ]
     },
     "metadata": {
      "needs_background": "light"
     },
     "output_type": "display_data"
    }
   ],
   "source": [
    "plt.scatter(y_test, predictions)"
   ]
  },
  {
   "cell_type": "code",
   "execution_count": 10,
   "id": "6e3f4a0c-2781-49d2-84fa-788d505906b1",
   "metadata": {},
   "outputs": [
    {
     "data": {
      "text/plain": [
       "([array([0., 0., 0., 0., 1., 1., 0., 0., 0., 0.]),\n",
       "  array([0., 0., 0., 0., 0., 2., 0., 0., 0., 0.]),\n",
       "  array([0., 0., 0., 0., 1., 1., 0., 0., 0., 0.]),\n",
       "  array([0., 0., 0., 0., 1., 1., 0., 0., 0., 0.]),\n",
       "  array([0., 0., 0., 0., 0., 0., 1., 0., 0., 1.]),\n",
       "  array([0., 0., 0., 0., 0., 2., 0., 0., 0., 0.]),\n",
       "  array([0., 0., 0., 0., 1., 1., 0., 0., 0., 0.]),\n",
       "  array([2., 0., 0., 0., 0., 0., 0., 0., 0., 0.]),\n",
       "  array([0., 0., 0., 0., 1., 1., 0., 0., 0., 0.]),\n",
       "  array([0., 0., 0., 0., 1., 1., 0., 0., 0., 0.]),\n",
       "  array([0., 0., 0., 0., 1., 1., 0., 0., 0., 0.]),\n",
       "  array([0., 0., 1., 0., 0., 0., 0., 0., 0., 1.]),\n",
       "  array([0., 0., 0., 0., 0., 2., 0., 0., 0., 0.]),\n",
       "  array([0., 0., 0., 0., 1., 1., 0., 0., 0., 0.]),\n",
       "  array([0., 0., 0., 0., 0., 2., 0., 0., 0., 0.]),\n",
       "  array([0., 0., 0., 0., 0., 1., 1., 0., 0., 0.]),\n",
       "  array([0., 0., 0., 0., 1., 1., 0., 0., 0., 0.]),\n",
       "  array([0., 0., 0., 0., 0., 2., 0., 0., 0., 0.]),\n",
       "  array([0., 0., 0., 0., 1., 1., 0., 0., 0., 0.]),\n",
       "  array([0., 0., 0., 0., 0., 1., 0., 0., 1., 0.]),\n",
       "  array([0., 0., 0., 0., 1., 1., 0., 0., 0., 0.]),\n",
       "  array([0., 0., 0., 0., 1., 1., 0., 0., 0., 0.]),\n",
       "  array([0., 0., 0., 0., 0., 2., 0., 0., 0., 0.]),\n",
       "  array([0., 0., 0., 0., 0., 1., 1., 0., 0., 0.]),\n",
       "  array([0., 0., 0., 0., 0., 2., 0., 0., 0., 0.]),\n",
       "  array([0., 0., 0., 0., 1., 1., 0., 0., 0., 0.]),\n",
       "  array([0., 0., 0., 0., 1., 1., 0., 0., 0., 0.]),\n",
       "  array([0., 0., 0., 0., 1., 1., 0., 0., 0., 0.]),\n",
       "  array([0., 0., 0., 0., 1., 1., 0., 0., 0., 0.]),\n",
       "  array([0., 0., 0., 0., 0., 2., 0., 0., 0., 0.]),\n",
       "  array([0., 0., 0., 0., 1., 1., 0., 0., 0., 0.]),\n",
       "  array([0., 0., 0., 0., 1., 1., 0., 0., 0., 0.]),\n",
       "  array([0., 0., 0., 0., 0., 2., 0., 0., 0., 0.]),\n",
       "  array([0., 0., 0., 0., 1., 1., 0., 0., 0., 0.]),\n",
       "  array([0., 0., 0., 0., 0., 2., 0., 0., 0., 0.]),\n",
       "  array([0., 0., 0., 0., 0., 2., 0., 0., 0., 0.]),\n",
       "  array([0., 0., 0., 0., 2., 0., 0., 0., 0., 0.]),\n",
       "  array([0., 0., 0., 0., 1., 1., 0., 0., 0., 0.]),\n",
       "  array([0., 0., 0., 0., 0., 1., 1., 0., 0., 0.]),\n",
       "  array([0., 0., 0., 0., 0., 2., 0., 0., 0., 0.]),\n",
       "  array([0., 0., 0., 0., 1., 1., 0., 0., 0., 0.]),\n",
       "  array([0., 0., 0., 0., 1., 1., 0., 0., 0., 0.]),\n",
       "  array([0., 0., 0., 0., 0., 2., 0., 0., 0., 0.]),\n",
       "  array([0., 0., 0., 0., 0., 2., 0., 0., 0., 0.]),\n",
       "  array([0., 0., 0., 0., 0., 2., 0., 0., 0., 0.]),\n",
       "  array([0., 0., 0., 0., 2., 0., 0., 0., 0., 0.]),\n",
       "  array([0., 0., 0., 0., 1., 1., 0., 0., 0., 0.]),\n",
       "  array([0., 0., 0., 0., 0., 2., 0., 0., 0., 0.]),\n",
       "  array([0., 0., 0., 0., 1., 1., 0., 0., 0., 0.]),\n",
       "  array([0., 0., 0., 0., 0., 2., 0., 0., 0., 0.]),\n",
       "  array([0., 0., 0., 0., 0., 2., 0., 0., 0., 0.]),\n",
       "  array([0., 0., 0., 0., 1., 1., 0., 0., 0., 0.]),\n",
       "  array([0., 0., 0., 0., 0., 2., 0., 0., 0., 0.]),\n",
       "  array([0., 0., 0., 0., 0., 2., 0., 0., 0., 0.]),\n",
       "  array([0., 0., 0., 0., 0., 2., 0., 0., 0., 0.]),\n",
       "  array([0., 0., 0., 0., 1., 1., 0., 0., 0., 0.]),\n",
       "  array([0., 0., 0., 0., 1., 1., 0., 0., 0., 0.]),\n",
       "  array([0., 0., 0., 0., 0., 1., 0., 1., 0., 0.]),\n",
       "  array([0., 0., 0., 0., 0., 2., 0., 0., 0., 0.]),\n",
       "  array([0., 0., 0., 0., 0., 2., 0., 0., 0., 0.]),\n",
       "  array([0., 0., 0., 0., 1., 1., 0., 0., 0., 0.]),\n",
       "  array([0., 0., 0., 0., 0., 2., 0., 0., 0., 0.]),\n",
       "  array([0., 0., 0., 0., 2., 0., 0., 0., 0., 0.]),\n",
       "  array([0., 0., 0., 0., 0., 1., 1., 0., 0., 0.]),\n",
       "  array([0., 0., 0., 0., 0., 2., 0., 0., 0., 0.]),\n",
       "  array([0., 0., 0., 0., 1., 1., 0., 0., 0., 0.]),\n",
       "  array([0., 0., 0., 0., 1., 1., 0., 0., 0., 0.]),\n",
       "  array([0., 0., 0., 0., 0., 2., 0., 0., 0., 0.]),\n",
       "  array([0., 0., 0., 0., 0., 2., 0., 0., 0., 0.]),\n",
       "  array([0., 0., 0., 0., 0., 2., 0., 0., 0., 0.]),\n",
       "  array([0., 0., 0., 0., 1., 1., 0., 0., 0., 0.]),\n",
       "  array([0., 0., 0., 0., 0., 2., 0., 0., 0., 0.]),\n",
       "  array([0., 0., 0., 0., 0., 1., 1., 0., 0., 0.]),\n",
       "  array([0., 0., 0., 0., 1., 1., 0., 0., 0., 0.]),\n",
       "  array([0., 0., 0., 0., 0., 2., 0., 0., 0., 0.])],\n",
       " array([-1161.88039073,  -933.02403389,  -704.16767705,  -475.31132021,\n",
       "         -246.45496337,   -17.59860654,   211.2577503 ,   440.11410714,\n",
       "          668.97046398,   897.82682082,  1126.68317766]),\n",
       " <a list of 75 Lists of Patches objects>)"
      ]
     },
     "execution_count": 10,
     "metadata": {},
     "output_type": "execute_result"
    },
    {
     "data": {
      "image/png": "[encoded data removed]",
      "text/plain": [
       "<Figure size 432x288 with 1 Axes>"
      ]
     },
     "metadata": {
      "needs_background": "light"
     },
     "output_type": "display_data"
    }
   ],
   "source": [
    "plt.hist(y_test - predictions)"
   ]
  },
  {
   "cell_type": "code",
   "execution_count": 12,
   "id": "a2cf65b6-44e8-4615-b62f-28ef56f97d16",
   "metadata": {},
   "outputs": [
    {
     "data": {
      "text/plain": [
       "82.70737075622343"
      ]
     },
     "execution_count": 12,
     "metadata": {},
     "output_type": "execute_result"
    }
   ],
   "source": [
    "from sklearn import metrics\n",
    "metrics.mean_absolute_error(y_test, predictions)"
   ]
  },
  {
   "cell_type": "code",
   "execution_count": 13,
   "id": "7770e254-62c9-42c2-920b-a404c4f993d9",
   "metadata": {},
   "outputs": [
    {
     "data": {
      "text/plain": [
       "41700.10115148177"
      ]
     },
     "execution_count": 13,
     "metadata": {},
     "output_type": "execute_result"
    }
   ],
   "source": [
    "metrics.mean_squared_error(y_test, predictions)"
   ]
  },
  {
   "cell_type": "code",
   "execution_count": 14,
   "id": "df1e9a78-93d2-4002-bdaa-7df0d6357e17",
   "metadata": {},
   "outputs": [
    {
     "data": {
      "text/plain": [
       "204.20602623693986"
      ]
     },
     "execution_count": 14,
     "metadata": {},
     "output_type": "execute_result"
    }
   ],
   "source": [
    "np.sqrt(metrics.mean_squared_error(y_test, predictions))"
   ]
  },
  {
   "cell_type": "code",
   "execution_count": null,
   "id": "8d17ee30-fe4c-4558-80cf-50f6cd3def3e",
   "metadata": {},
   "outputs": [],
   "source": []
  }
 ],
 "metadata": {
  "kernelspec": {
   "display_name": "Python 3",
   "language": "python",
   "name": "python3"
  },
  "language_info": {
   "codemirror_mode": {
    "name": "ipython",
    "version": 3
   },
   "file_extension": ".py",
   "mimetype": "text/x-python",
   "name": "python",
   "nbconvert_exporter": "python",
   "pygments_lexer": "ipython3",
   "version": "3.7.8"
  }
 },
 "nbformat": 4,
 "nbformat_minor": 5
}
